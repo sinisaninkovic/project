{
 "cells": [
  {
   "cell_type": "code",
   "execution_count": 4,
   "id": "7ba4c0e1",
   "metadata": {},
   "outputs": [
    {
     "data": {
      "text/plain": [
       "13"
      ]
     },
     "execution_count": 4,
     "metadata": {},
     "output_type": "execute_result"
    }
   ],
   "source": [
    "def find_min_steps(a, b):\n",
    "    \n",
    "    if(type(a)!=int or type(b)!=int or a<1 or b<1):\n",
    "        \n",
    "        return \"Invalit input!!\"\n",
    "        \n",
    "    else:\n",
    "        \n",
    "        steps, smaller, bigger = 0, min((a,b)), max((a,b))\n",
    "            \n",
    "        while(smaller): \n",
    "            \n",
    "            if(smaller * 2 <= bigger):\n",
    "                smaller = smaller * 2  \n",
    "                \n",
    "            else:\n",
    "                smaller = smaller - 1\n",
    "                bigger = bigger - 1\n",
    "                \n",
    "            steps = steps + 1\n",
    "        \n",
    "    return steps\n",
    "\n",
    "\n",
    "find_min_steps(12, 11)"
   ]
  },
  {
   "cell_type": "code",
   "execution_count": null,
   "id": "b6afaa70",
   "metadata": {},
   "outputs": [],
   "source": []
  },
  {
   "cell_type": "code",
   "execution_count": null,
   "id": "f0f6bba7",
   "metadata": {},
   "outputs": [],
   "source": []
  }
 ],
 "metadata": {
  "kernelspec": {
   "display_name": "Python 3 (ipykernel)",
   "language": "python",
   "name": "python3"
  },
  "language_info": {
   "codemirror_mode": {
    "name": "ipython",
    "version": 3
   },
   "file_extension": ".py",
   "mimetype": "text/x-python",
   "name": "python",
   "nbconvert_exporter": "python",
   "pygments_lexer": "ipython3",
   "version": "3.9.7"
  }
 },
 "nbformat": 4,
 "nbformat_minor": 5
}
