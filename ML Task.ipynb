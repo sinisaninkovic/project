{
 "cells": [
  {
   "cell_type": "code",
   "execution_count": 1,
   "id": "bcc68013",
   "metadata": {},
   "outputs": [],
   "source": [
    "import numpy as np\n",
    "import pandas as pd\n",
    "import matplotlib.pyplot as plt\n",
    "import seaborn as sns\n",
    "%matplotlib inline\n",
    "import warnings\n",
    "from sklearn import preprocessing"
   ]
  },
  {
   "cell_type": "code",
   "execution_count": 2,
   "id": "2292007e",
   "metadata": {},
   "outputs": [],
   "source": [
    "train_set = pd.read_csv(\"car_data.csv\")"
   ]
  },
  {
   "cell_type": "code",
   "execution_count": 3,
   "id": "65fa5c74",
   "metadata": {},
   "outputs": [
    {
     "data": {
      "text/html": [
       "<div>\n",
       "<style scoped>\n",
       "    .dataframe tbody tr th:only-of-type {\n",
       "        vertical-align: middle;\n",
       "    }\n",
       "\n",
       "    .dataframe tbody tr th {\n",
       "        vertical-align: top;\n",
       "    }\n",
       "\n",
       "    .dataframe thead th {\n",
       "        text-align: right;\n",
       "    }\n",
       "</style>\n",
       "<table border=\"1\" class=\"dataframe\">\n",
       "  <thead>\n",
       "    <tr style=\"text-align: right;\">\n",
       "      <th></th>\n",
       "      <th>User ID</th>\n",
       "      <th>Gender</th>\n",
       "      <th>Age</th>\n",
       "      <th>AnnualSalary</th>\n",
       "      <th>Purchased</th>\n",
       "    </tr>\n",
       "  </thead>\n",
       "  <tbody>\n",
       "    <tr>\n",
       "      <th>count</th>\n",
       "      <td>1000.000000</td>\n",
       "      <td>1000</td>\n",
       "      <td>1000.000000</td>\n",
       "      <td>1000.000000</td>\n",
       "      <td>1000.000000</td>\n",
       "    </tr>\n",
       "    <tr>\n",
       "      <th>unique</th>\n",
       "      <td>NaN</td>\n",
       "      <td>2</td>\n",
       "      <td>NaN</td>\n",
       "      <td>NaN</td>\n",
       "      <td>NaN</td>\n",
       "    </tr>\n",
       "    <tr>\n",
       "      <th>top</th>\n",
       "      <td>NaN</td>\n",
       "      <td>Female</td>\n",
       "      <td>NaN</td>\n",
       "      <td>NaN</td>\n",
       "      <td>NaN</td>\n",
       "    </tr>\n",
       "    <tr>\n",
       "      <th>freq</th>\n",
       "      <td>NaN</td>\n",
       "      <td>516</td>\n",
       "      <td>NaN</td>\n",
       "      <td>NaN</td>\n",
       "      <td>NaN</td>\n",
       "    </tr>\n",
       "    <tr>\n",
       "      <th>mean</th>\n",
       "      <td>500.500000</td>\n",
       "      <td>NaN</td>\n",
       "      <td>40.106000</td>\n",
       "      <td>72689.000000</td>\n",
       "      <td>0.402000</td>\n",
       "    </tr>\n",
       "    <tr>\n",
       "      <th>std</th>\n",
       "      <td>288.819436</td>\n",
       "      <td>NaN</td>\n",
       "      <td>10.707073</td>\n",
       "      <td>34488.341867</td>\n",
       "      <td>0.490547</td>\n",
       "    </tr>\n",
       "    <tr>\n",
       "      <th>min</th>\n",
       "      <td>1.000000</td>\n",
       "      <td>NaN</td>\n",
       "      <td>18.000000</td>\n",
       "      <td>15000.000000</td>\n",
       "      <td>0.000000</td>\n",
       "    </tr>\n",
       "    <tr>\n",
       "      <th>25%</th>\n",
       "      <td>250.750000</td>\n",
       "      <td>NaN</td>\n",
       "      <td>32.000000</td>\n",
       "      <td>46375.000000</td>\n",
       "      <td>0.000000</td>\n",
       "    </tr>\n",
       "    <tr>\n",
       "      <th>50%</th>\n",
       "      <td>500.500000</td>\n",
       "      <td>NaN</td>\n",
       "      <td>40.000000</td>\n",
       "      <td>72000.000000</td>\n",
       "      <td>0.000000</td>\n",
       "    </tr>\n",
       "    <tr>\n",
       "      <th>75%</th>\n",
       "      <td>750.250000</td>\n",
       "      <td>NaN</td>\n",
       "      <td>48.000000</td>\n",
       "      <td>90000.000000</td>\n",
       "      <td>1.000000</td>\n",
       "    </tr>\n",
       "    <tr>\n",
       "      <th>max</th>\n",
       "      <td>1000.000000</td>\n",
       "      <td>NaN</td>\n",
       "      <td>63.000000</td>\n",
       "      <td>152500.000000</td>\n",
       "      <td>1.000000</td>\n",
       "    </tr>\n",
       "  </tbody>\n",
       "</table>\n",
       "</div>"
      ],
      "text/plain": [
       "            User ID  Gender          Age   AnnualSalary    Purchased\n",
       "count   1000.000000    1000  1000.000000    1000.000000  1000.000000\n",
       "unique          NaN       2          NaN            NaN          NaN\n",
       "top             NaN  Female          NaN            NaN          NaN\n",
       "freq            NaN     516          NaN            NaN          NaN\n",
       "mean     500.500000     NaN    40.106000   72689.000000     0.402000\n",
       "std      288.819436     NaN    10.707073   34488.341867     0.490547\n",
       "min        1.000000     NaN    18.000000   15000.000000     0.000000\n",
       "25%      250.750000     NaN    32.000000   46375.000000     0.000000\n",
       "50%      500.500000     NaN    40.000000   72000.000000     0.000000\n",
       "75%      750.250000     NaN    48.000000   90000.000000     1.000000\n",
       "max     1000.000000     NaN    63.000000  152500.000000     1.000000"
      ]
     },
     "execution_count": 3,
     "metadata": {},
     "output_type": "execute_result"
    }
   ],
   "source": [
    "train_set.describe(include=\"all\")"
   ]
  },
  {
   "cell_type": "code",
   "execution_count": 4,
   "id": "8bb4ac16",
   "metadata": {},
   "outputs": [
    {
     "data": {
      "text/html": [
       "<div>\n",
       "<style scoped>\n",
       "    .dataframe tbody tr th:only-of-type {\n",
       "        vertical-align: middle;\n",
       "    }\n",
       "\n",
       "    .dataframe tbody tr th {\n",
       "        vertical-align: top;\n",
       "    }\n",
       "\n",
       "    .dataframe thead th {\n",
       "        text-align: right;\n",
       "    }\n",
       "</style>\n",
       "<table border=\"1\" class=\"dataframe\">\n",
       "  <thead>\n",
       "    <tr style=\"text-align: right;\">\n",
       "      <th></th>\n",
       "      <th>User ID</th>\n",
       "      <th>Gender</th>\n",
       "      <th>Age</th>\n",
       "      <th>AnnualSalary</th>\n",
       "      <th>Purchased</th>\n",
       "    </tr>\n",
       "  </thead>\n",
       "  <tbody>\n",
       "    <tr>\n",
       "      <th>849</th>\n",
       "      <td>564</td>\n",
       "      <td>Male</td>\n",
       "      <td>21</td>\n",
       "      <td>87500</td>\n",
       "      <td>0</td>\n",
       "    </tr>\n",
       "    <tr>\n",
       "      <th>112</th>\n",
       "      <td>478</td>\n",
       "      <td>Male</td>\n",
       "      <td>31</td>\n",
       "      <td>58000</td>\n",
       "      <td>0</td>\n",
       "    </tr>\n",
       "    <tr>\n",
       "      <th>819</th>\n",
       "      <td>400</td>\n",
       "      <td>Male</td>\n",
       "      <td>30</td>\n",
       "      <td>15000</td>\n",
       "      <td>0</td>\n",
       "    </tr>\n",
       "    <tr>\n",
       "      <th>608</th>\n",
       "      <td>165</td>\n",
       "      <td>Male</td>\n",
       "      <td>31</td>\n",
       "      <td>81500</td>\n",
       "      <td>0</td>\n",
       "    </tr>\n",
       "    <tr>\n",
       "      <th>210</th>\n",
       "      <td>554</td>\n",
       "      <td>Female</td>\n",
       "      <td>54</td>\n",
       "      <td>144500</td>\n",
       "      <td>1</td>\n",
       "    </tr>\n",
       "  </tbody>\n",
       "</table>\n",
       "</div>"
      ],
      "text/plain": [
       "     User ID  Gender  Age  AnnualSalary  Purchased\n",
       "849      564    Male   21         87500          0\n",
       "112      478    Male   31         58000          0\n",
       "819      400    Male   30         15000          0\n",
       "608      165    Male   31         81500          0\n",
       "210      554  Female   54        144500          1"
      ]
     },
     "execution_count": 4,
     "metadata": {},
     "output_type": "execute_result"
    }
   ],
   "source": [
    "train_set.sample(5)"
   ]
  },
  {
   "cell_type": "code",
   "execution_count": 5,
   "id": "f7d516fa",
   "metadata": {},
   "outputs": [
    {
     "name": "stdout",
     "output_type": "stream",
     "text": [
      "User ID         0\n",
      "Gender          0\n",
      "Age             0\n",
      "AnnualSalary    0\n",
      "Purchased       0\n",
      "dtype: int64\n"
     ]
    }
   ],
   "source": [
    "print(pd.isnull(train_set).sum())"
   ]
  },
  {
   "cell_type": "code",
   "execution_count": 6,
   "id": "92e40d6e",
   "metadata": {},
   "outputs": [
    {
     "name": "stdout",
     "output_type": "stream",
     "text": [
      "Percentage of male who purchased: 37.8099173553719\n",
      "Percentage of female who purchased: 42.44186046511628\n"
     ]
    },
    {
     "data": {
      "image/png": "[encoded data removed]",
      "text/plain": [
       "<Figure size 432x288 with 1 Axes>"
      ]
     },
     "metadata": {
      "needs_background": "light"
     },
     "output_type": "display_data"
    }
   ],
   "source": [
    "sns.barplot(x=\"Gender\", y=\"Purchased\", data=train_set)\n",
    "\n",
    "print(\"Percentage of male who purchased:\", train_set[\"Purchased\"][train_set[\"Gender\"] == 'Male'].value_counts(normalize = True)[1]*100)\n",
    "\n",
    "print(\"Percentage of female who purchased:\", train_set[\"Purchased\"][train_set[\"Gender\"] == 'Female'].value_counts(normalize = True)[1]*100)"
   ]
  },
  {
   "cell_type": "code",
   "execution_count": 7,
   "id": "164f7f0a",
   "metadata": {},
   "outputs": [
    {
     "data": {
      "image/png": "[encoded data removed]",
      "text/plain": [
       "<Figure size 432x288 with 1 Axes>"
      ]
     },
     "metadata": {
      "needs_background": "light"
     },
     "output_type": "display_data"
    }
   ],
   "source": [
    "train_set[\"Age\"] = train_set[\"Age\"].fillna(-0.5)\n",
    "bins = [8,18, 28, 38, 48, 58, 68, 78, 88, 98, 108]\n",
    "train_set['AgeGroup'] = pd.cut(train_set[\"Age\"], bins)\n",
    "sns.barplot(x=\"AgeGroup\", y=\"Purchased\", data=train_set)\n",
    "plt.show()"
   ]
  },
  {
   "cell_type": "code",
   "execution_count": 8,
   "id": "27a5c294",
   "metadata": {},
   "outputs": [
    {
     "data": {
      "image/png": "[encoded data removed]",
      "text/plain": [
       "<Figure size 432x288 with 1 Axes>"
      ]
     },
     "metadata": {
      "needs_background": "light"
     },
     "output_type": "display_data"
    }
   ],
   "source": [
    "train_set[\"AnnualSalary\"] = train_set[\"AnnualSalary\"].fillna(-0.5)\n",
    "bins = [10000, 40000, 70000, 100000, 130000, 160000]\n",
    "train_set['AnnualSalaryGroup'] = pd.cut(train_set[\"AnnualSalary\"], bins)\n",
    "sns.barplot(x=\"AnnualSalaryGroup\", y=\"Purchased\", data=train_set)\n",
    "plt.show()"
   ]
  },
  {
   "cell_type": "code",
   "execution_count": 9,
   "id": "2a88b110",
   "metadata": {},
   "outputs": [],
   "source": [
    "train_set = train_set.drop(['User ID'], axis = 1) #removing ID column"
   ]
  },
  {
   "cell_type": "code",
   "execution_count": 10,
   "id": "ffd26c2a",
   "metadata": {},
   "outputs": [],
   "source": [
    "train_set = train_set.drop(['AgeGroup'], axis = 1)"
   ]
  },
  {
   "cell_type": "code",
   "execution_count": 11,
   "id": "b9a4d7b7",
   "metadata": {},
   "outputs": [],
   "source": [
    "train_set = train_set.drop(['AnnualSalaryGroup'], axis = 1)"
   ]
  },
  {
   "cell_type": "code",
   "execution_count": 12,
   "id": "f996136e",
   "metadata": {},
   "outputs": [
    {
     "data": {
      "text/html": [
       "<div>\n",
       "<style scoped>\n",
       "    .dataframe tbody tr th:only-of-type {\n",
       "        vertical-align: middle;\n",
       "    }\n",
       "\n",
       "    .dataframe tbody tr th {\n",
       "        vertical-align: top;\n",
       "    }\n",
       "\n",
       "    .dataframe thead th {\n",
       "        text-align: right;\n",
       "    }\n",
       "</style>\n",
       "<table border=\"1\" class=\"dataframe\">\n",
       "  <thead>\n",
       "    <tr style=\"text-align: right;\">\n",
       "      <th></th>\n",
       "      <th>Gender</th>\n",
       "      <th>Age</th>\n",
       "      <th>AnnualSalary</th>\n",
       "      <th>Purchased</th>\n",
       "    </tr>\n",
       "  </thead>\n",
       "  <tbody>\n",
       "    <tr>\n",
       "      <th>561</th>\n",
       "      <td>Female</td>\n",
       "      <td>53</td>\n",
       "      <td>38500</td>\n",
       "      <td>1</td>\n",
       "    </tr>\n",
       "    <tr>\n",
       "      <th>484</th>\n",
       "      <td>Female</td>\n",
       "      <td>28</td>\n",
       "      <td>37000</td>\n",
       "      <td>0</td>\n",
       "    </tr>\n",
       "    <tr>\n",
       "      <th>355</th>\n",
       "      <td>Female</td>\n",
       "      <td>48</td>\n",
       "      <td>114500</td>\n",
       "      <td>1</td>\n",
       "    </tr>\n",
       "    <tr>\n",
       "      <th>261</th>\n",
       "      <td>Female</td>\n",
       "      <td>40</td>\n",
       "      <td>60000</td>\n",
       "      <td>0</td>\n",
       "    </tr>\n",
       "    <tr>\n",
       "      <th>664</th>\n",
       "      <td>Male</td>\n",
       "      <td>29</td>\n",
       "      <td>80500</td>\n",
       "      <td>0</td>\n",
       "    </tr>\n",
       "  </tbody>\n",
       "</table>\n",
       "</div>"
      ],
      "text/plain": [
       "     Gender  Age  AnnualSalary  Purchased\n",
       "561  Female   53         38500          1\n",
       "484  Female   28         37000          0\n",
       "355  Female   48        114500          1\n",
       "261  Female   40         60000          0\n",
       "664    Male   29         80500          0"
      ]
     },
     "execution_count": 12,
     "metadata": {},
     "output_type": "execute_result"
    }
   ],
   "source": [
    "train_set.sample(5)"
   ]
  },
  {
   "cell_type": "code",
   "execution_count": 13,
   "id": "efa87a9e",
   "metadata": {},
   "outputs": [
    {
     "data": {
      "text/html": [
       "<div>\n",
       "<style scoped>\n",
       "    .dataframe tbody tr th:only-of-type {\n",
       "        vertical-align: middle;\n",
       "    }\n",
       "\n",
       "    .dataframe tbody tr th {\n",
       "        vertical-align: top;\n",
       "    }\n",
       "\n",
       "    .dataframe thead th {\n",
       "        text-align: right;\n",
       "    }\n",
       "</style>\n",
       "<table border=\"1\" class=\"dataframe\">\n",
       "  <thead>\n",
       "    <tr style=\"text-align: right;\">\n",
       "      <th></th>\n",
       "      <th>Gender</th>\n",
       "      <th>Age</th>\n",
       "      <th>AnnualSalary</th>\n",
       "      <th>Purchased</th>\n",
       "    </tr>\n",
       "  </thead>\n",
       "  <tbody>\n",
       "    <tr>\n",
       "      <th>0</th>\n",
       "      <td>1</td>\n",
       "      <td>35</td>\n",
       "      <td>20000</td>\n",
       "      <td>0</td>\n",
       "    </tr>\n",
       "    <tr>\n",
       "      <th>1</th>\n",
       "      <td>1</td>\n",
       "      <td>40</td>\n",
       "      <td>43500</td>\n",
       "      <td>0</td>\n",
       "    </tr>\n",
       "    <tr>\n",
       "      <th>2</th>\n",
       "      <td>1</td>\n",
       "      <td>49</td>\n",
       "      <td>74000</td>\n",
       "      <td>0</td>\n",
       "    </tr>\n",
       "    <tr>\n",
       "      <th>3</th>\n",
       "      <td>1</td>\n",
       "      <td>40</td>\n",
       "      <td>107500</td>\n",
       "      <td>1</td>\n",
       "    </tr>\n",
       "    <tr>\n",
       "      <th>4</th>\n",
       "      <td>1</td>\n",
       "      <td>25</td>\n",
       "      <td>79000</td>\n",
       "      <td>0</td>\n",
       "    </tr>\n",
       "  </tbody>\n",
       "</table>\n",
       "</div>"
      ],
      "text/plain": [
       "   Gender  Age  AnnualSalary  Purchased\n",
       "0       1   35         20000          0\n",
       "1       1   40         43500          0\n",
       "2       1   49         74000          0\n",
       "3       1   40        107500          1\n",
       "4       1   25         79000          0"
      ]
     },
     "execution_count": 13,
     "metadata": {},
     "output_type": "execute_result"
    }
   ],
   "source": [
    "train_set['Gender'].replace(to_replace=['Male','Female'], value=[1,2],inplace=True) #converting gender to a numerical value\n",
    "train_set.head()"
   ]
  },
  {
   "cell_type": "code",
   "execution_count": 14,
   "id": "d97f387a",
   "metadata": {},
   "outputs": [
    {
     "data": {
      "text/html": [
       "<div>\n",
       "<style scoped>\n",
       "    .dataframe tbody tr th:only-of-type {\n",
       "        vertical-align: middle;\n",
       "    }\n",
       "\n",
       "    .dataframe tbody tr th {\n",
       "        vertical-align: top;\n",
       "    }\n",
       "\n",
       "    .dataframe thead th {\n",
       "        text-align: right;\n",
       "    }\n",
       "</style>\n",
       "<table border=\"1\" class=\"dataframe\">\n",
       "  <thead>\n",
       "    <tr style=\"text-align: right;\">\n",
       "      <th></th>\n",
       "      <th>Gender</th>\n",
       "      <th>Age</th>\n",
       "      <th>AnnualSalary</th>\n",
       "    </tr>\n",
       "  </thead>\n",
       "  <tbody>\n",
       "    <tr>\n",
       "      <th>0</th>\n",
       "      <td>1</td>\n",
       "      <td>35</td>\n",
       "      <td>20000</td>\n",
       "    </tr>\n",
       "    <tr>\n",
       "      <th>1</th>\n",
       "      <td>1</td>\n",
       "      <td>40</td>\n",
       "      <td>43500</td>\n",
       "    </tr>\n",
       "    <tr>\n",
       "      <th>2</th>\n",
       "      <td>1</td>\n",
       "      <td>49</td>\n",
       "      <td>74000</td>\n",
       "    </tr>\n",
       "    <tr>\n",
       "      <th>3</th>\n",
       "      <td>1</td>\n",
       "      <td>40</td>\n",
       "      <td>107500</td>\n",
       "    </tr>\n",
       "    <tr>\n",
       "      <th>4</th>\n",
       "      <td>1</td>\n",
       "      <td>25</td>\n",
       "      <td>79000</td>\n",
       "    </tr>\n",
       "  </tbody>\n",
       "</table>\n",
       "</div>"
      ],
      "text/plain": [
       "   Gender  Age  AnnualSalary\n",
       "0       1   35         20000\n",
       "1       1   40         43500\n",
       "2       1   49         74000\n",
       "3       1   40        107500\n",
       "4       1   25         79000"
      ]
     },
     "execution_count": 14,
     "metadata": {},
     "output_type": "execute_result"
    }
   ],
   "source": [
    "Feature = train_set[['Gender','Age','AnnualSalary']] #columns important for prediction\n",
    "X = Feature\n",
    "X[0:5]\n",
    "\n"
   ]
  },
  {
   "cell_type": "code",
   "execution_count": 15,
   "id": "0775bfaf",
   "metadata": {},
   "outputs": [
    {
     "data": {
      "text/plain": [
       "array([0, 0, 0, 1, 0])"
      ]
     },
     "execution_count": 15,
     "metadata": {},
     "output_type": "execute_result"
    }
   ],
   "source": [
    "y = train_set['Purchased'].values \n",
    "y[0:5]"
   ]
  },
  {
   "cell_type": "code",
   "execution_count": 16,
   "id": "c67b6e6c",
   "metadata": {},
   "outputs": [
    {
     "data": {
      "text/plain": [
       "array([[0.        , 0.37777778, 0.03636364],\n",
       "       [0.        , 0.48888889, 0.20727273],\n",
       "       [0.        , 0.68888889, 0.42909091],\n",
       "       [0.        , 0.48888889, 0.67272727],\n",
       "       [0.        , 0.15555556, 0.46545455]])"
      ]
     },
     "execution_count": 16,
     "metadata": {},
     "output_type": "execute_result"
    }
   ],
   "source": [
    "#Data Standardization, because it is more important difference between male and female than it is between someone who is 55 and 56 years old\n",
    "from sklearn.preprocessing import MinMaxScaler\n",
    "\n",
    "scaler = MinMaxScaler()\n",
    "X = scaler.fit_transform(X)\n",
    "X[0:5]"
   ]
  },
  {
   "cell_type": "code",
   "execution_count": 17,
   "id": "5c87487e",
   "metadata": {},
   "outputs": [],
   "source": [
    "import logging\n",
    "import sys\n",
    "\n",
    "logger = logging.getLogger()\n",
    "fhandler = logging.FileHandler(filename='test_log.log', mode='a')\n",
    "logger.addHandler(fhandler)\n",
    "\n",
    "formatter = logging.Formatter('%(asctime)s %(message)s',\n",
    "            \"%Y-%m-%d %H:%M:%S\")\n",
    "\n",
    "fhandler.setFormatter(formatter)\n",
    "\n",
    "consoleHandler = logging.StreamHandler(sys.stdout)\n",
    "consoleHandler.setFormatter(formatter)\n",
    "logger.addHandler(consoleHandler)\n",
    "\n",
    "logger = logging.getLogger()\n",
    "logger.setLevel(logging.DEBUG)"
   ]
  },
  {
   "cell_type": "code",
   "execution_count": 18,
   "id": "e44b7c13",
   "metadata": {},
   "outputs": [
    {
     "name": "stdout",
     "output_type": "stream",
     "text": [
      "2022-08-06 10:30:14 Model = Naive Bayes, Split =  50 - 50 , Accuracy = 0.875\n",
      "2022-08-06 10:30:15 Model = Naive Bayes, Split =  70 - 30 , Accuracy = 0.877\n",
      "2022-08-06 10:30:15 Model = Naive Bayes, Split =  80 - 20 , Accuracy = 0.876\n"
     ]
    }
   ],
   "source": [
    "from sklearn.model_selection import train_test_split\n",
    "from sklearn.naive_bayes import GaussianNB\n",
    "from sklearn.metrics import accuracy_score\n",
    "\n",
    "test_set_sizes=[0.5, 0.3, 0.2]\n",
    "samples = 1000\n",
    "\n",
    "for test_set_size in test_set_sizes:\n",
    "    accuracy = 0\n",
    "    for i in range(samples):\n",
    "        X_train, X_test, y_train, y_test = train_test_split( X, y, test_size=test_set_size, random_state=None)\n",
    "        gnb = GaussianNB()\n",
    "        gnb.fit(X_train, y_train)\n",
    "        y_pred = gnb.predict(X_test)\n",
    "        accuracy = accuracy + accuracy_score(y_test, y_pred)\n",
    "    accuracy = accuracy / samples\n",
    "    #print(\"Model = Naive Bayes, Split = \" , int((1-test_set_size)*100), \"-\" , int(test_set_size*100) , \", Accuracy = \" , accuracy)\n",
    "    logging.info(\"Model = Naive Bayes, Split =  {} - {} , Accuracy = {:0.3}\" .format(int((1-test_set_size)*100), int(test_set_size*100), float(accuracy)))"
   ]
  },
  {
   "cell_type": "code",
   "execution_count": 19,
   "id": "c35bc2e8",
   "metadata": {},
   "outputs": [
    {
     "name": "stdout",
     "output_type": "stream",
     "text": [
      "2022-08-06 10:30:15 Model = Naive Bayes, Split =  50 - 50 , Accuracy = 0.86\n",
      "2022-08-06 10:30:15 Model = Naive Bayes, Split =  70 - 30 , Accuracy = 0.867\n",
      "2022-08-06 10:30:15 Model = Naive Bayes, Split =  80 - 20 , Accuracy = 0.86\n"
     ]
    }
   ],
   "source": [
    "from sklearn.model_selection import train_test_split\n",
    "from sklearn.naive_bayes import GaussianNB\n",
    "from sklearn.metrics import accuracy_score\n",
    "\n",
    "test_set_sizes=[0.5, 0.3, 0.2]\n",
    "samples = 1 #only once with fixed starting state = 29\n",
    "\n",
    "for test_set_size in test_set_sizes:\n",
    "    accuracy = 0\n",
    "    for i in range(samples):\n",
    "        X_train, X_test, y_train, y_test = train_test_split( X, y, test_size=test_set_size, random_state=29)\n",
    "        gnb = GaussianNB()\n",
    "        gnb.fit(X_train, y_train)\n",
    "        y_pred = gnb.predict(X_test)\n",
    "        accuracy = accuracy + accuracy_score(y_test, y_pred)\n",
    "    accuracy = accuracy / samples\n",
    "    #print(\"Model = Naive Bayes, Split = \" , int((1-test_set_size)*100), \"-\" , int(test_set_size*100) , \", Accuracy = \" , accuracy)\n",
    "    logging.info(\"Model = Naive Bayes, Split =  {} - {} , Accuracy = {:0.3}\" .format(int((1-test_set_size)*100), int(test_set_size*100), float(accuracy)))"
   ]
  },
  {
   "cell_type": "code",
   "execution_count": 20,
   "id": "a2b97087",
   "metadata": {},
   "outputs": [
    {
     "name": "stdout",
     "output_type": "stream",
     "text": [
      "Training set score:  0.8787200000000023\n",
      "Test set score:  0.8765549999999988\n"
     ]
    }
   ],
   "source": [
    "accuracy_test = 0\n",
    "accuracy_train = 0\n",
    "samples = 1000\n",
    "\n",
    "for i in range(samples):\n",
    "    X_train, X_test, y_train, y_test = train_test_split( X, y, test_size=test_set_size, random_state=None) #to not depend on the random state\n",
    "    gnb = GaussianNB()\n",
    "    gnb.fit(X_train, y_train)\n",
    "    \n",
    "    y_pred_test = gnb.predict(X_test) #based on model from train data predict Purchesed for test data\n",
    "    y_pred_train = gnb.predict(X_train) #based on model from train data predict Purchesed for train data\n",
    "    \n",
    "    accuracy_test = accuracy_test + accuracy_score(y_test, y_pred_test)\n",
    "    accuracy_train = accuracy_train + accuracy_score(y_train, y_pred_train)\n",
    "    \n",
    "accuracy_test = accuracy_test / samples\n",
    "accuracy_train = accuracy_train  / samples\n",
    "\n",
    "print('Training set score: ' , accuracy_train)\n",
    "print('Test set score: ' , accuracy_test)"
   ]
  },
  {
   "cell_type": "code",
   "execution_count": 21,
   "id": "baaf4866",
   "metadata": {},
   "outputs": [],
   "source": [
    "#These two values are quite close to each other and it means that there is no overfitting"
   ]
  },
  {
   "cell_type": "code",
   "execution_count": null,
   "id": "c9978ed7",
   "metadata": {},
   "outputs": [],
   "source": []
  },
  {
   "cell_type": "code",
   "execution_count": null,
   "id": "87a8eab5",
   "metadata": {},
   "outputs": [],
   "source": []
  },
  {
   "cell_type": "code",
   "execution_count": null,
   "id": "6599016e",
   "metadata": {},
   "outputs": [],
   "source": []
  },
  {
   "cell_type": "code",
   "execution_count": null,
   "id": "f05e4958",
   "metadata": {},
   "outputs": [],
   "source": []
  }
 ],
 "metadata": {
  "kernelspec": {
   "display_name": "Python 3 (ipykernel)",
   "language": "python",
   "name": "python3"
  },
  "language_info": {
   "codemirror_mode": {
    "name": "ipython",
    "version": 3
   },
   "file_extension": ".py",
   "mimetype": "text/x-python",
   "name": "python",
   "nbconvert_exporter": "python",
   "pygments_lexer": "ipython3",
   "version": "3.9.7"
  }
 },
 "nbformat": 4,
 "nbformat_minor": 5
}
