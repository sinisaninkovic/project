{
 "cells": [
  {
   "cell_type": "code",
   "execution_count": 61,
   "id": "b4b17906",
   "metadata": {},
   "outputs": [
    {
     "name": "stdout",
     "output_type": "stream",
     "text": [
      "Input:\n",
      "2 5\n",
      "\n",
      "\n",
      "Steps:\n",
      "\n",
      "The smaller number is multiplied by two\n",
      "4 5\n",
      "\n",
      "\n",
      "Both numbers are decreased by 1\n",
      "3 4\n",
      "\n",
      "\n",
      "Both numbers are decreased by 1\n",
      "2 3\n",
      "\n",
      "\n",
      "Both numbers are decreased by 1\n",
      "1 2\n",
      "\n",
      "\n",
      "The smaller number is multiplied by two\n",
      "2 2\n",
      "\n",
      "\n",
      "Both numbers are decreased by 1\n",
      "1 1\n",
      "\n",
      "\n",
      "Both numbers are decreased by 1\n",
      "0 0\n",
      "\n",
      "\n",
      "\n",
      "Number of steps:  7\n"
     ]
    },
    {
     "data": {
      "text/plain": [
       "7"
      ]
     },
     "execution_count": 61,
     "metadata": {},
     "output_type": "execute_result"
    }
   ],
   "source": [
    "def print_f(a, b, smaller, bigger, text):\n",
    "    \n",
    "    if(a>b):\n",
    "        print(text)\n",
    "        print(bigger, smaller)\n",
    "        print(\"\\n\")\n",
    "    else:\n",
    "        print(text)\n",
    "        print(smaller, bigger)\n",
    "        print(\"\\n\")\n",
    "\n",
    "        \n",
    "        \n",
    "def find_min_steps(a, b):\n",
    "    \n",
    "    if(type(a)!=int or type(b)!=int or a<1 or b<1):\n",
    "        return \"Invalit input!!\"\n",
    "        \n",
    "    else:\n",
    "        steps=0\n",
    "        \n",
    "        print(\"Input:\")\n",
    "        print(a, b)\n",
    "        print(\"\\n\\nSteps:\\n\")\n",
    "            \n",
    "        if(a >= b):\n",
    "            smaller = b\n",
    "            bigger = a\n",
    "                \n",
    "        else:\n",
    "            smaller = a\n",
    "            bigger = b\n",
    "            \n",
    "        while(smaller != 0 and bigger != 0): #moze samo smaller ili bigger biti u uslovu..\n",
    "            \n",
    "            if(smaller * 2 <= bigger):\n",
    "                smaller = smaller * 2\n",
    "                text = \"The smaller number is multiplied by two\"\n",
    "                print_f(a, b, smaller, bigger, text)  \n",
    "                \n",
    "            else:\n",
    "                smaller = smaller - 1\n",
    "                bigger = bigger - 1\n",
    "                text = \"Both numbers are decreased by 1\"\n",
    "                print_f(a, b, smaller, bigger, text)\n",
    "                \n",
    "            steps = steps + 1\n",
    "        \n",
    "    print(\"\\nNumber of steps: \", steps)\n",
    "    return steps\n",
    "\n",
    "\"\"\"\n",
    "ovo moze biti jos optimizovano jer ako je 2*smaller > bigger mozemo izracunati za koliko koraka to nece biti\n",
    "slucaj pa samim tim i preskociti ove provjere 2*(smaller - x) > bigger-x gdje je x broj stepova u kojima cemo\n",
    "uvijek oba broja umanjivati za 1 \n",
    "\"\"\"\n",
    "\n",
    "find_min_steps(2, 5)"
   ]
  },
  {
   "cell_type": "code",
   "execution_count": null,
   "id": "ec311cde",
   "metadata": {},
   "outputs": [],
   "source": []
  },
  {
   "cell_type": "code",
   "execution_count": null,
   "id": "8f262ba5",
   "metadata": {},
   "outputs": [],
   "source": []
  }
 ],
 "metadata": {
  "kernelspec": {
   "display_name": "Python 3 (ipykernel)",
   "language": "python",
   "name": "python3"
  },
  "language_info": {
   "codemirror_mode": {
    "name": "ipython",
    "version": 3
   },
   "file_extension": ".py",
   "mimetype": "text/x-python",
   "name": "python",
   "nbconvert_exporter": "python",
   "pygments_lexer": "ipython3",
   "version": "3.9.7"
  }
 },
 "nbformat": 4,
 "nbformat_minor": 5
}
