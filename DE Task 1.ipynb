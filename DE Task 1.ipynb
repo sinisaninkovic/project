{
 "cells": [
  {
   "cell_type": "code",
   "execution_count": 72,
   "id": "7ebf9b80",
   "metadata": {},
   "outputs": [
    {
     "name": "stdout",
     "output_type": "stream",
     "text": [
      "division by zero\n",
      "ovo je log\n",
      "tag1\n",
      "log2\n",
      "\n",
      "\n",
      "error\n",
      "ovo je log\n",
      "tag3\n",
      "\n",
      "\n",
      "division by zero\n",
      "ovo je log\n",
      "tag1\n",
      "log2\n"
     ]
    }
   ],
   "source": [
    "import functools\n",
    "\n",
    "def internal_exception_logger(*args):\n",
    "    tags_list = [] \n",
    "    for arg in args:\n",
    "        tags_list.append(arg)\n",
    "    def deco(func):\n",
    "        @functools.wraps(func)\n",
    "        def wrapper(*args, **kwargs):\n",
    "            nonlocal tags_list\n",
    "            try:\n",
    "                result = func(*args, **kwargs)\n",
    "                return result\n",
    "            except Exception as e:\n",
    "                log(e, tags_list)\n",
    "                #raise e\n",
    "        return wrapper\n",
    "    return deco\n",
    "    \n",
    "\n",
    "def log(exception_string, args):\n",
    "    print(exception_string)\n",
    "    print(\"ovo je log\")\n",
    "    for arg in args:\n",
    "        print(arg)\n",
    "                                                                                     \n",
    "                              \n",
    "@internal_exception_logger('tag1', 'log2')                          \n",
    "def funkcija1():\n",
    "    print(2/0)\n",
    "\n",
    "@internal_exception_logger('tag3')     \n",
    "def funkcija2():\n",
    "    raise Exception(\"error\")\n",
    "    \n",
    "x= funkcija1()\n",
    "print(\"\\n\")\n",
    "y= funkcija2()\n",
    "print(\"\\n\")\n",
    "z= funkcija1()\n",
    "    "
   ]
  },
  {
   "cell_type": "code",
   "execution_count": null,
   "id": "82b69ad2",
   "metadata": {},
   "outputs": [],
   "source": []
  },
  {
   "cell_type": "code",
   "execution_count": null,
   "id": "66be8e78",
   "metadata": {},
   "outputs": [],
   "source": []
  }
 ],
 "metadata": {
  "kernelspec": {
   "display_name": "Python 3 (ipykernel)",
   "language": "python",
   "name": "python3"
  },
  "language_info": {
   "codemirror_mode": {
    "name": "ipython",
    "version": 3
   },
   "file_extension": ".py",
   "mimetype": "text/x-python",
   "name": "python",
   "nbconvert_exporter": "python",
   "pygments_lexer": "ipython3",
   "version": "3.9.7"
  }
 },
 "nbformat": 4,
 "nbformat_minor": 5
}
